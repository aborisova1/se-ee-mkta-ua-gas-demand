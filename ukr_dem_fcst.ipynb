{
 "cells": [
  {
   "cell_type": "code",
   "execution_count": 10,
   "metadata": {},
   "outputs": [],
   "source": [
    "import requests\n",
    "import pandas as pd\n",
    "import os\n",
    "import json\n",
    "import datetime\n",
    "from datetime import datetime, timedelta, date\n",
    "from dotenv import load_dotenv\n",
    "import matplotlib.pyplot as plt\n",
    "import numpy as np\n",
    "import seaborn as sns\n",
    "load_dotenv()\n",
    "\n",
    "import warnings\n",
    "warnings.filterwarnings(\"ignore\")"
   ]
  },
  {
   "cell_type": "code",
   "execution_count": 2,
   "metadata": {},
   "outputs": [],
   "source": [
    "#function to pull data from systradingmarketdata\n",
    "#https://systradingmarketdataapi.azurewebsites.net/index.html\n",
    "#start_Date and end_date are required parameters unlike what is stated in Swagger\n",
    "\n",
    "def get_marketdata_ag(as_of_date, start_datetime, end_datetime, analysis_group, curve_name):\n",
    "    #define the basic parameters of the API call\n",
    "    baseurl = \"https://systradingmarketdataapi.azurewebsites.net/api/\"\n",
    "    url = f\"{baseurl}Authentication/request\"\n",
    "    \n",
    "    payload=f'{{\"username\": \"{os.getenv(\"MARKETDATA_USER\")}\", \"password\": \"{os.getenv(\"MARKETDATA_PWD\")}\"}}'\n",
    "    headers = {\n",
    "      'Authorization': '',\n",
    "      'Content-Type': 'application/json',\n",
    "    }\n",
    "    \n",
    "   # get the token\n",
    "    login_response = requests.request(\"POST\", url, headers=headers, data=payload)\n",
    "    #print(login_response.text)\n",
    "\n",
    "    #params = f\"asOfDate={as_of_date}&granularity=hours&timeZone=GMT\"\n",
    "    params = f\"start={start_datetime}&end={end_datetime}&asOfDate={as_of_date}&granularity=hours&timeZone=GMT\"\n",
    "    group_url = f'{baseurl}AnalysisGroup/{analysis_group}/{curve_name}?{params}'\n",
    "    #print(group_url)\n",
    "\n",
    "    payload={}\n",
    "    headers = {\n",
    "      'Authorization': f'Bearer {login_response.text}',\n",
    "    }\n",
    "    #print(group_url)\n",
    "    response = requests.request(\"GET\", group_url, headers=headers, data=payload)\n",
    "    #print(response.text)\n",
    "\n",
    "    power_json = json.loads(response.text)\n",
    "    #print(power_json)\n",
    "\n",
    "    # loading hour sequence from the maximum and minimum found - it's not yet clear\n",
    "    # the logic for the cut off date times.\n",
    "    max_found_time = max([x['timeSeries'][-1]['date'] for x in power_json['curves']])\n",
    "    min_found_time = min([x['timeSeries'][0]['date'] for x in power_json['curves']])\n",
    "\n",
    "    hour_sequence = pd.date_range(start = pd.to_datetime(min_found_time),\n",
    "                             end = pd.to_datetime(max_found_time),\n",
    "                             freq = \"H\")\n",
    "\n",
    "     # %%\n",
    "    # create named dataframe from json\n",
    "    def turn_series_to_df(json_series):\n",
    "        this_df = pd.DataFrame.from_records(json_series['timeSeries'])\n",
    "        this_df['date'] = pd.to_datetime(this_df['date'])\n",
    "        this_df.set_index('date', inplace=True)\n",
    "        this_df.rename(columns={'value' : json_series['memberName']}, inplace=True)#'name' is an alternative here to memberName\n",
    "        return(this_df)\n",
    "\n",
    "    # %%\n",
    "    # load initial dataset for first time series and fill mising hours\n",
    "\n",
    "    power_df = turn_series_to_df(power_json['curves'][0])\n",
    "    power_df = power_df.reindex(hour_sequence)\n",
    "    power_df.rename_axis(\"date\", axis='index', inplace=True)\n",
    "\n",
    "    # %%\n",
    "\n",
    "    for full_series in power_json['curves'][1:]:\n",
    "        this_df = turn_series_to_df(full_series)\n",
    "        power_df = pd.merge(power_df,this_df,how='left', left_index=True, right_index=True)                            \n",
    "    return power_df"
   ]
  },
  {
   "cell_type": "code",
   "execution_count": 3,
   "metadata": {},
   "outputs": [],
   "source": [
    "#re-format the output of the previous function\n",
    "def reformat (ce):\n",
    "    ce = ce.resample(rule='24H', closed='left', label='left', base=5).mean().round(1)\n",
    "    ce = ce.iloc[:-1,:]\n",
    "    ce['date'] = ce.apply(lambda x: datetime(x.name.year, x.name.month, x.name.day), axis = 1)\n",
    "    ce = ce.set_index('date')\n",
    "    ce=ce.rename(columns={ce.columns[0]:'Temp_fcst'})\n",
    "    return ce"
   ]
  },
  {
   "cell_type": "code",
   "execution_count": 4,
   "metadata": {},
   "outputs": [],
   "source": [
    "#Pull the data and produce the forecast\n",
    "end = (datetime.today() + timedelta(days = 15)).replace(hour = 0, minute = 0, second=0, microsecond=0)\n",
    "start = datetime.today().replace(hour = 5, minute = 0, second=0, microsecond=0)\n",
    "asof = (datetime.today()).replace(hour = 3, minute = 0, second=0, microsecond=0)\n",
    "\n",
    "fcst = get_marketdata_ag(asof, start, end, 'weather_CEE', 'ModelAPI.MAGMA.Kyiv.Temperature.Hourly.UTC')\n",
    "fcst = reformat(fcst)"
   ]
  },
  {
   "cell_type": "code",
   "execution_count": 5,
   "metadata": {},
   "outputs": [],
   "source": [
    "#Pull the previous weather forecast\n",
    "if datetime.today().weekday() == 0:\n",
    "   daysdelta = -3\n",
    "else:\n",
    "    daysdelta = -1\n",
    "\n",
    "end1 = end + timedelta(days = daysdelta)\n",
    "start1 = start + timedelta(days = daysdelta)\n",
    "asof1 = asof + timedelta(days = daysdelta)\n",
    "\n",
    "fcst_prev = get_marketdata_ag(asof1, start1, end1, 'weather_CEE', 'ModelAPI.MAGMA.Kyiv.Temperature.Hourly.UTC')\n",
    "fcst_prev = reformat(fcst_prev)"
   ]
  },
  {
   "cell_type": "code",
   "execution_count": 6,
   "metadata": {},
   "outputs": [],
   "source": [
    "#Apply coefs\n",
    "coefs = pd.read_csv('coef.csv')\n",
    "slope = coefs['slope'].iloc[0]\n",
    "inter = coefs['intercept'].iloc[0]\n",
    "\n",
    "fcst['Current forecast'] = fcst['Temp_fcst'] * slope  + inter + 3.75\n",
    "fcst['Current forecast'] = fcst['Current forecast'].round(1)\n",
    "\n",
    "fcst_prev['Previous forecast'] = fcst_prev['Temp_fcst'] * slope  + inter + 3.75\n",
    "fcst_prev['Previous forecast'] = fcst_prev['Previous forecast'].round(1)"
   ]
  },
  {
   "cell_type": "code",
   "execution_count": 7,
   "metadata": {},
   "outputs": [],
   "source": [
    "#Prepare the output table\n",
    "output = pd.concat([fcst, fcst_prev['Previous forecast']], axis = 1)\n",
    "\n",
    "\n",
    "#Pull (adjusted) normal demand\n",
    "normal = pd.read_csv('30_yr_av_demand.csv', index_col = 0)\n",
    "normal.index = pd.to_datetime(normal.index, format='%d/%m/%Y')# format='%d%m%Y'\n",
    "normal = normal.round(1)\n",
    "normal = normal.rename(columns = {normal.columns[0]:'SND'})\n",
    "\n",
    "output = pd.concat([output, normal], axis=1, join=\"inner\")\n",
    "output['Current forecast vs previous forecast'] = output['Current forecast'] - output['Previous forecast']\n",
    "output['Current forecast vs seasonal normal demand'] = output['Current forecast'] - output['SND']\n",
    "\n",
    "output = output.iloc[1:,:]\n",
    "output.index = output.index.date\n",
    "\n",
    "change1 = output['Current forecast vs previous forecast'].sum()\n",
    "change2 = output['Current forecast vs seasonal normal demand'].sum()\n",
    "\n",
    "output.loc['Total:'] =''\n",
    "output.at['Total:', 'Current forecast vs previous forecast'] = change1\n",
    "output.at['Total:', 'Current forecast vs seasonal normal demand'] = change2"
   ]
  },
  {
   "cell_type": "code",
   "execution_count": 43,
   "metadata": {},
   "outputs": [],
   "source": [
    "fof = pd.DataFrame(output['Current forecast vs previous forecast'][:-2].astype(float))\n",
    "fos = pd.DataFrame(output['Current forecast vs seasonal normal demand'][:-2].astype(float))"
   ]
  },
  {
   "cell_type": "code",
   "execution_count": 47,
   "metadata": {},
   "outputs": [
    {
     "name": "stdout",
     "output_type": "stream",
     "text": [
      "           Temp_fcst Current forecast Previous forecast    SND  \\\n",
      "2021-12-22     -12.2            136.0             128.4  116.1   \n",
      "2021-12-23     -12.2            136.0             129.3  116.3   \n",
      "2021-12-24      -2.2            115.6             115.0  116.4   \n",
      "2021-12-25      -0.2            111.6             114.6  116.6   \n",
      "2021-12-26      -5.5            122.3             120.1  116.8   \n",
      "2021-12-27      -1.9            115.0             116.4  116.9   \n",
      "2021-12-28      -0.6            112.4             115.2  117.1   \n",
      "2021-12-29      -2.4            116.0             111.4  117.2   \n",
      "2021-12-30      -5.9            123.2             113.6  117.3   \n",
      "2021-12-31      -7.3            126.0             117.3  117.4   \n",
      "2022-01-01      -6.8            125.0             118.3  117.5   \n",
      "2022-01-02      -6.3            124.0             119.1  117.6   \n",
      "2022-01-03      -6.1            123.6             120.1  117.7   \n",
      "2022-01-04      -5.4            122.1               NaN  117.8   \n",
      "Total:                                                           \n",
      "\n",
      "            Current forecast vs previous forecast  \\\n",
      "2021-12-22                                    7.6   \n",
      "2021-12-23                                    6.7   \n",
      "2021-12-24                                    0.6   \n",
      "2021-12-25                                   -3.0   \n",
      "2021-12-26                                    2.2   \n",
      "2021-12-27                                   -1.4   \n",
      "2021-12-28                                   -2.8   \n",
      "2021-12-29                                    4.6   \n",
      "2021-12-30                                    9.6   \n",
      "2021-12-31                                    8.7   \n",
      "2022-01-01                                    6.7   \n",
      "2022-01-02                                    4.9   \n",
      "2022-01-03                                    3.5   \n",
      "2022-01-04                                    NaN   \n",
      "Total:                                       47.9   \n",
      "\n",
      "           Current forecast vs seasonal normal demand  \n",
      "2021-12-22                                       19.9  \n",
      "2021-12-23                                       19.7  \n",
      "2021-12-24                                       -0.8  \n",
      "2021-12-25                                       -5.0  \n",
      "2021-12-26                                        5.5  \n",
      "2021-12-27                                       -1.9  \n",
      "2021-12-28                                       -4.7  \n",
      "2021-12-29                                       -1.2  \n",
      "2021-12-30                                        5.9  \n",
      "2021-12-31                                        8.6  \n",
      "2022-01-01                                        7.5  \n",
      "2022-01-02                                        6.4  \n",
      "2022-01-03                                        5.9  \n",
      "2022-01-04                                        4.3  \n",
      "Total:                                           70.1  \n",
      "Notes:\n",
      "1) SND - seasonal normal demand adjusted for demand destruction observed between 1 Nov and 15 Dec\n",
      "2) Previous forecast refers to the forecast generated on the previous business day\n"
     ]
    },
    {
     "data": {
      "image/png": "[encoded data removed]",
      "text/plain": [
       "<Figure size 432x288 with 2 Axes>"
      ]
     },
     "metadata": {
      "needs_background": "light"
     },
     "output_type": "display_data"
    },
    {
     "data": {
      "image/png": "[encoded data removed]",
      "text/plain": [
       "<Figure size 432x288 with 2 Axes>"
      ]
     },
     "metadata": {
      "needs_background": "light"
     },
     "output_type": "display_data"
    }
   ],
   "source": [
    "print(output)\n",
    "print('Notes:')\n",
    "print('1) SND - seasonal normal demand adjusted for demand destruction observed between 1 Nov and 15 Dec')\n",
    "print('2) Previous forecast refers to the forecast generated on the previous business day')\n",
    "sns.heatmap(fof,cmap='RdBu_r', vmin=-20, vmax=20)\n",
    "plt.show()\n",
    "sns.heatmap(fos,cmap='RdBu_r', vmin=-20, vmax=20)\n",
    "plt.show()"
   ]
  }
 ],
 "metadata": {
  "interpreter": {
   "hash": "0c773e69d5e6e93a97672e0b8d092dd8a845c457d11be5963434f5fb97cbc8e8"
  },
  "kernelspec": {
   "display_name": "Python 3.7.12 64-bit ('newenv': conda)",
   "name": "python3"
  },
  "language_info": {
   "codemirror_mode": {
    "name": "ipython",
    "version": 3
   },
   "file_extension": ".py",
   "mimetype": "text/x-python",
   "name": "python",
   "nbconvert_exporter": "python",
   "pygments_lexer": "ipython3",
   "version": "3.7.12"
  },
  "orig_nbformat": 4
 },
 "nbformat": 4,
 "nbformat_minor": 2
}
