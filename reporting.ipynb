{
 "cells": [
  {
   "cell_type": "code",
   "execution_count": 1,
   "metadata": {},
   "outputs": [
    {
     "data": {
      "text/plain": [
       "True"
      ]
     },
     "execution_count": 1,
     "metadata": {},
     "output_type": "execute_result"
    }
   ],
   "source": [
    "import sys, os\n",
    "# Add the parent directory to the sys.path\n",
    "sys.path.append(os.path.dirname(os.getcwd()))\n",
    "sys.path.append(os.getcwd())\n",
    "\n",
    "import datetime as dt\n",
    "import pandas as pd\n",
    "from mailjet_rest import Client\n",
    "\n",
    "from dotenv import load_dotenv\n",
    "load_dotenv()\n",
    "\n",
    "# from IPython.display import HTML"
   ]
  },
  {
   "cell_type": "code",
   "execution_count": 2,
   "metadata": {},
   "outputs": [],
   "source": [
    "def send_email_using_mailjet(html, distro, subject='Testing email', attachments=None):\n",
    "    \"\"\"\n",
    "    Send email using the MailJet service.\n",
    "\n",
    "    Args:\n",
    "        html (str): html email body.\n",
    "        distro (str): email distribution list name.\n",
    "        subject (str): email subject\n",
    "\n",
    "    Returns: None\n",
    "    \"\"\"\n",
    "    # Send the message via mailjet\n",
    "    api_key = os.environ['MAILJET_API_KEY']\n",
    "    api_secret = os.environ['MAILJET_SECRET_KEY']\n",
    "    mailjet = Client(auth=(api_key, api_secret))\n",
    "    recipients = get_email_distro_list(distro_name=distro)\n",
    "    # recipients = ['jones.wan@shell.com']\n",
    "    data = {\n",
    "        'FromEmail': \"systradingmonitor@shell.com\",\n",
    "        'FromName': 'Systematic Trading & Fundamentals Monitor',\n",
    "        'Subject': subject,\n",
    "        'Text-part': '',\n",
    "        'Html-part': html,\n",
    "        'Recipients': [{'Email': a} for a in recipients],\n",
    "        \"InlinedAttachments\": attachments\n",
    "    }\n",
    "    \n",
    "    result = mailjet.send.create(data=data)\n",
    "    "
   ]
  },
  {
   "cell_type": "code",
   "execution_count": 3,
   "metadata": {},
   "outputs": [],
   "source": [
    "def get_email_distro_list(distro_name):\n",
    "    \"\"\"\n",
    "    This function is used to retrieve email distribution lists.\n",
    "\n",
    "    Args:\n",
    "        distro_name (str): name of the email distribution list to retrieve.\n",
    "\n",
    "    Returns: distribution_list value\n",
    "\n",
    "    \"\"\"\n",
    "\n",
    "    if distro_name.lower() == 'live':\n",
    "        d_list = os.environ['MAILLIST_LIVE'].split(';')\n",
    "    elif distro_name.lower() == 'test':\n",
    "        d_list = os.environ['MAILLIST_TEST'].split(';')\n",
    "    else:\n",
    "        d_list = os.environ['MAILLIST_DEV'].split(';')\n",
    "\n",
    "    return d_list"
   ]
  },
  {
   "cell_type": "code",
   "execution_count": 4,
   "metadata": {},
   "outputs": [],
   "source": [
    "def read_forcast(output_dir, forecast_date):\n",
    "    \"\"\"\n",
    "    Read the forecast from local output folder\n",
    "    \"\"\"\n",
    "    \n",
    "    if isinstance(forecast_date, dt.datetime):\n",
    "        forecast_date = forecast_date.date()\n",
    "\n",
    "    df = pd.read_csv(f'{output_dir}/forecast_{forecast_date}.csv', index_col=0)\n",
    "    df.index = pd.to_datetime(df.index)\n",
    "    \n",
    "    return df"
   ]
  },
  {
   "cell_type": "code",
   "execution_count": 5,
   "metadata": {},
   "outputs": [],
   "source": [
    "def send_email_alert(subject='Testing email', distro='dev',\n",
    "input_1=None, description_1=None,\n",
    "input_2=None, description_2=None,\n",
    "input_3=None, description_3=None):    \n",
    "\n",
    "    if (input_1 is None) and (input_2 is None) and (input_3 is None):\n",
    "        print(\"Input is not provided\")\n",
    "    else:\n",
    "        html = \"\"\n",
    "        if input_1 is not None:\n",
    "            if isinstance(input_1, str):\n",
    "                html += input_1                \n",
    "            else:\n",
    "                html += f\"\"\"<br><p style=\"font-family:Arial, sans-serif;font-size:14px;font-weight:bold\">{description_1}</p><br>\"\"\"                \n",
    "                if isinstance(input_1, pd.DataFrame):\n",
    "                    html += input_1.to_html()\n",
    "\n",
    "        if input_2 is not None:\n",
    "            if isinstance(input_2, str):\n",
    "                html += input_2                \n",
    "            else:\n",
    "                html += f\"\"\"<br><p style=\"font-family:Arial, sans-serif;font-size:14px;font-weight:bold\">{description_2}</p><br>\"\"\"                \n",
    "                if isinstance(input_2, pd.DataFrame):\n",
    "                    html += input_2.to_html()\n",
    "\n",
    "        if input_3 is not None:\n",
    "            if isinstance(input_3, str):\n",
    "                html += input_3                \n",
    "            else:\n",
    "                html += f\"\"\"<br><p style=\"font-family:Arial, sans-serif;font-size:14px;font-weight:bold\">{description_3}</p><br>\"\"\"                \n",
    "                if isinstance(input_3, pd.DataFrame):\n",
    "                    html += input_3.to_html()\n",
    "\n",
    "    send_email_using_mailjet(html, distro, subject=subject)\n",
    "    print(\"Sending email alert completed ...\")"
   ]
  },
  {
   "cell_type": "code",
   "execution_count": 6,
   "metadata": {},
   "outputs": [
    {
     "name": "stdout",
     "output_type": "stream",
     "text": [
      "Recipients when goes live: ['Anna.Borisova@shell.com', 'Jones.Wan@shell.com', 'J.Drummond@shell.com']\n",
      "Recipients during testing: ['Anna.Borisova@shell.com', 'Jones.Wan@shell.com', 'J.Drummond@shell.com']\n",
      "Recipients during development: ['Jones.Wan@shell.com']\n",
      "Sending testing email completed ...\n",
      "Sending email alert completed ...\n",
      "Sending email alert completed ...\n",
      "Sending email alert completed ...\n"
     ]
    }
   ],
   "source": [
    "if __name__ == '__main__':\n",
    "\n",
    "    print(f\"Recipients when goes live: {get_email_distro_list('live')}\")\n",
    "    print(f\"Recipients during testing: {get_email_distro_list('test')}\")\n",
    "    print(f\"Recipients during development: {get_email_distro_list('dev')}\")\n",
    "\n",
    "    # Testing email\n",
    "    send_date = dt.date.today()\n",
    "\n",
    "    html = \"\"\"<br><p style=\"font-family:Arial, sans-serif;font-size:14px;font-weight:bold\">This is a testing email\n",
    "                                </p><br>\"\"\"\n",
    "    send_email_using_mailjet(html, 'dev', subject='Testing email sent on %(send_date)s' % {'send_date':send_date})\n",
    "    print(\"Sending testing email completed ...\")\n",
    "\n",
    "    df_1 = pd.DataFrame({'col1': range(1,11), 'col2': range(11,21)})\n",
    "    send_email_alert(subject='Testing email sent on %(send_date)s' % {'send_date':send_date}, distro='dev',\n",
    "    input_1=df_1, description_1='Sample table 1')\n",
    "    \n",
    "    df_2 = pd.DataFrame({'col1': range(1,11), 'col2': range(11,21), 'col3': range(21,31)})\n",
    "    send_email_alert(subject='Testing email sent on %(send_date)s' % {'send_date':send_date}, distro='dev',\n",
    "    input_1=df_1, description_1='Sample table 1',\n",
    "    input_2=df_2, description_2='Sample table 2')\n",
    "\n",
    "    send_email_alert(subject='Testing email sent on %(send_date)s' % {'send_date':send_date}, distro='dev',\n",
    "    input_1='Sample text',\n",
    "    input_2=df_2, description_2='Sample table')\n",
    "    "
   ]
  }
 ],
 "metadata": {
  "interpreter": {
   "hash": "1d472cbfb5b32111569067cd7cfd326580b2b6ff2982e2953878fd49888aeda6"
  },
  "kernelspec": {
   "display_name": "Python 3.9.7 64-bit ('ldz_nn_py_397': conda)",
   "language": "python",
   "name": "python3"
  },
  "language_info": {
   "codemirror_mode": {
    "name": "ipython",
    "version": 3
   },
   "file_extension": ".py",
   "mimetype": "text/x-python",
   "name": "python",
   "nbconvert_exporter": "python",
   "pygments_lexer": "ipython3",
   "version": "3.9.7"
  },
  "orig_nbformat": 4
 },
 "nbformat": 4,
 "nbformat_minor": 2
}
